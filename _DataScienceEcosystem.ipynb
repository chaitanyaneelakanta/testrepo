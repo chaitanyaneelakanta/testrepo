{
 "cells": [
  {
   "cell_type": "markdown",
   "id": "1cd62ebb-4b36-4727-9c97-953bf4223b07",
   "metadata": {},
   "source": [
    "# Data Science Tools and Ecosystem"
   ]
  },
  {
   "cell_type": "markdown",
   "id": "9e98ec3e-a33b-445b-96f9-5b979f0f78d6",
   "metadata": {},
   "source": [
    "In this notebook, Data Science Tools and Ecosystem are summarized."
   ]
  },
  {
   "cell_type": "markdown",
   "id": "cc1f0e3d-63f2-4380-b987-6530f41f69ce",
   "metadata": {},
   "source": [
    "Some of the popular languages that Data Scientists use are:\n",
    "- Python\n",
    "- R\n",
    "- SQL"
   ]
  },
  {
   "cell_type": "markdown",
   "id": "69442e28-71e9-4822-93bd-7868fd00e600",
   "metadata": {},
   "source": [
    "Some of the commonly used libraries used by Data Scientists include:\n",
    "- Pandas\n",
    "- Numpy\n",
    "- Matplotlib\n",
    "- Seaborn"
   ]
  },
  {
   "cell_type": "markdown",
   "id": "8b380a1d-2ab4-4ab7-b0b0-9ff99ab2aa9b",
   "metadata": {},
   "source": [
    "| Data Science Tools |\n",
    "| ------------------ |\n",
    "| MySQL |\n",
    "| MongoDB |\n",
    "| Git |\n",
    "| GitHub |"
   ]
  },
  {
   "cell_type": "markdown",
   "id": "538f9856-d84c-4b8c-9a61-d0f1d29468f5",
   "metadata": {},
   "source": [
    "### Below are a few examples of evaluating arithmetic expressions in Python"
   ]
  },
  {
   "cell_type": "code",
   "execution_count": 2,
   "id": "f7e147a5-9fd0-4eae-950b-38d763ae655e",
   "metadata": {},
   "outputs": [
    {
     "data": {
      "text/plain": [
       "17"
      ]
     },
     "execution_count": 2,
     "metadata": {},
     "output_type": "execute_result"
    }
   ],
   "source": [
    "#This a simple arithmetic expression to mutiply then add integers\n",
    "(3*4)+5"
   ]
  },
  {
   "cell_type": "code",
   "execution_count": 5,
   "id": "dd58626c-7856-4030-b2f6-a96e4d748d19",
   "metadata": {},
   "outputs": [
    {
     "data": {
      "text/plain": [
       "3.3333333333333335"
      ]
     },
     "execution_count": 5,
     "metadata": {},
     "output_type": "execute_result"
    }
   ],
   "source": [
    "# This will convert 200 minutes to hours by diving by 60\n",
    "200/60"
   ]
  },
  {
   "cell_type": "markdown",
   "id": "a8f8b578-9469-4e16-a891-0de3a7a6d525",
   "metadata": {},
   "source": [
    "**Objectives:**\n",
    "- Popular languages for Data Science\n",
    "- Popular libraries for Data Science\n",
    "- Popular Data Science Tools\n",
    "  "
   ]
  },
  {
   "cell_type": "markdown",
   "id": "4f47cc27-950b-4d33-8295-877770bff0b0",
   "metadata": {},
   "source": [
    "## Author\n",
    "Chaitanya Neelakanta"
   ]
  },
  {
   "cell_type": "code",
   "execution_count": null,
   "id": "8d238368-357a-4a74-8cfc-17e34af067e2",
   "metadata": {},
   "outputs": [],
   "source": []
  }
 ],
 "metadata": {
  "kernelspec": {
   "display_name": "Python 3 (ipykernel)",
   "language": "python",
   "name": "python3"
  },
  "language_info": {
   "codemirror_mode": {
    "name": "ipython",
    "version": 3
   },
   "file_extension": ".py",
   "mimetype": "text/x-python",
   "name": "python",
   "nbconvert_exporter": "python",
   "pygments_lexer": "ipython3",
   "version": "3.12.5"
  }
 },
 "nbformat": 4,
 "nbformat_minor": 5
}
